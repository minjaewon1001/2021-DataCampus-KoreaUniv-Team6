{
 "cells": [
  {
   "cell_type": "code",
   "execution_count": null,
   "id": "2c5e0a3b",
   "metadata": {},
   "outputs": [],
   "source": [
    "# pafy이용하여 유튜브 영상 속 얼굴인식하기\n",
    "import numpy as np \n",
    "import cv2, pafy \n",
    "\n",
    "faceCascade=cv2.CascadeClassifier('C:/Data/haarcascade_frontalface_alt.xml') #괄호 안 따옴표 안 경로에서 검출에 필요한xml파일을 불러옴. 'haarcascades'다운로드 해야함. 경로수정은 알아서.\n",
    "\n",
    "url = 'https://youtu.be/l9_V93YLKXM' #따옴표 안 유튜브 링크에서 필요한 영상을 불러옴. 원하는 대로 수정 가능.\n",
    "video = pafy.new(url)\n",
    "\n",
    "print('title = ', video.title) #영상의 제목을 표시.\n",
    "best = video.getbest(preftype = 'webm',ftypestrict=False)\n",
    "print('best.resolution', best.resolution) #영상의 크기를 표시.\n",
    "\n",
    "cap = cv2.VideoCapture(best.url)\n",
    "while(True):\n",
    "     retval, frame = cap.read()#영상에서 프레임을 하나씩 받아옴\n",
    "    #제대로 프레임을 읽으면 ret값이 True, 실패하면 False가 나타남. frame에 읽은 프레임이 나옴\n",
    "     if not retval:\n",
    "            break\n",
    "     gray = cv2.cvtColor(frame, cv2.COLOR_BGR2GRAY)\n",
    "\n",
    "     faces = faceCascade.detectMultiScale(gray)   #minSize = (50,50)\n",
    "     for (x, y, w, h) in faces:\n",
    "        cv2.rectangle(frame, (x, y), (x + w, y + h), (255, 0, 0), 2)\n",
    "     cv2.imshow('frame', frame)\n",
    "\n",
    "     key = cv2.waitKey(25)\n",
    "     if key == 27:   #Esc누르면 종료.\n",
    "            break\n",
    "cv2.destroyAllWindows()"
   ]
  },
  {
   "cell_type": "markdown",
   "id": "2a44cd1f",
   "metadata": {},
   "source": [
    "pafy를 이용하여 원하는 유튜브 영상의 링크를 통해 동영상을 받아오고, 이렇게 받아온 영상을 opencv를 통해 프레임하나씩 읽어오면서 얼굴감지를 하는 과정이다.\n",
    "우리의 목표는 버튼을 눌러 정지시켰을 때의 프레임 속 얼굴을 감지하는 것이기 때문에 코드를 수정할 필요가 있다."
   ]
  }
 ],
 "metadata": {
  "kernelspec": {
   "display_name": "Python 3",
   "language": "python",
   "name": "python3"
  },
  "language_info": {
   "codemirror_mode": {
    "name": "ipython",
    "version": 3
   },
   "file_extension": ".py",
   "mimetype": "text/x-python",
   "name": "python",
   "nbconvert_exporter": "python",
   "pygments_lexer": "ipython3",
   "version": "3.8.10"
  }
 },
 "nbformat": 4,
 "nbformat_minor": 5
}
